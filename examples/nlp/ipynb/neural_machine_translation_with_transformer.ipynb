{
  "cells": [
    {
      "cell_type": "markdown",
      "metadata": {
        "id": "alBhgfEfw2mB"
      },
      "source": [
        "# English-to-Spanish translation with a sequence-to-sequence Transformer\n",
        "\n",
        "**Author:** [fchollet](https://twitter.com/fchollet)<br>\n",
        "**Date created:** 2021/05/26<br>\n",
        "**Last modified:** 2023/02/25<br>\n",
        "**Description:** Implementing a sequence-to-sequene Transformer and training it on a machine translation task."
      ]
    },
    {
      "cell_type": "markdown",
      "metadata": {
        "id": "qweDaoUWw2mE"
      },
      "source": [
        "## Introduction\n",
        "\n",
        "In this example, we'll build a sequence-to-sequence Transformer model, which\n",
        "we'll train on an English-to-Spanish machine translation task.\n",
        "\n",
        "You'll learn how to:\n",
        "\n",
        "- Vectorize text using the Keras `TextVectorization` layer.\n",
        "- Implement a `TransformerEncoder` layer, a `TransformerDecoder` layer,\n",
        "and a `PositionalEmbedding` layer.\n",
        "- Prepare data for training a sequence-to-sequence model.\n",
        "- Use the trained model to generate translations of never-seen-before\n",
        "input sentences (sequence-to-sequence inference).\n",
        "\n",
        "The code featured here is adapted from the book\n",
        "[Deep Learning with Python, Second Edition](https://www.manning.com/books/deep-learning-with-python-second-edition)\n",
        "(chapter 11: Deep learning for text).\n",
        "The present example is fairly barebones, so for detailed explanations of\n",
        "how each building block works, as well as the theory behind Transformers,\n",
        "I recommend reading the book."
      ]
    },
    {
      "cell_type": "markdown",
      "metadata": {
        "id": "IF8QrXQ6w2mF"
      },
      "source": [
        "## Setup"
      ]
    },
    {
      "cell_type": "code",
      "execution_count": 2,
      "metadata": {
        "id": "Iro6AvdQw2mF"
      },
      "outputs": [],
      "source": [
        "import pathlib\n",
        "import random\n",
        "import string\n",
        "import re\n",
        "import pandas as pd\n",
        "import numpy as np\n",
        "import tensorflow as tf\n",
        "from tensorflow import keras\n",
        "from keras import layers\n",
        "from keras.layers import TextVectorization"
      ]
    },
    {
      "cell_type": "markdown",
      "metadata": {
        "id": "He3XS0MXw2mG"
      },
      "source": [
        "## Downloading the data\n",
        "\n",
        "We'll be working with an English-to-Spanish translation dataset\n",
        "provided by [Anki](https://www.manythings.org/anki/). Let's download it:"
      ]
    },
    {
      "cell_type": "code",
      "execution_count": 20,
      "metadata": {
        "id": "W42SQ05ew2mG",
        "outputId": "169afce3-08c6-492c-c82a-57eee3d88842",
        "colab": {
          "base_uri": "https://localhost:8080/"
        }
      },
      "outputs": [
        {
          "output_type": "execute_result",
          "data": {
            "text/plain": [
              "PosixPath('/root/.keras/datasets/spa-eng/spa.txt')"
            ]
          },
          "metadata": {},
          "execution_count": 20
        }
      ],
      "source": [
        "text_file = keras.utils.get_file(\n",
        "    fname=\"spa-eng.zip\",\n",
        "    origin=\"http://storage.googleapis.com/download.tensorflow.org/data/spa-eng.zip\",\n",
        "    extract=True,\n",
        ")\n",
        "text_file = pathlib.Path(text_file).parent / \"spa-eng\" / \"spa.txt\"\n",
        "text_file"
      ]
    },
    {
      "cell_type": "code",
      "source": [
        "dataset = pd.read_csv(\"data2.csv\")\n",
        "\n",
        "input_texts = dataset.iloc[:, 0]\n",
        "target_texts = dataset.iloc[:, 1]\n",
        "\n",
        "input_texts[0]\n",
        "target_texts[0]"
      ],
      "metadata": {
        "id": "9yw6WC7Sz1Wi",
        "outputId": "85bac700-42ae-470c-d8c8-e595ec600809",
        "colab": {
          "base_uri": "https://localhost:8080/",
          "height": 35
        }
      },
      "execution_count": 4,
      "outputs": [
        {
          "output_type": "execute_result",
          "data": {
            "text/plain": [
              "'ሠላማዊት መብራቱ አሠፋ'"
            ],
            "application/vnd.google.colaboratory.intrinsic+json": {
              "type": "string"
            }
          },
          "metadata": {},
          "execution_count": 4
        }
      ]
    },
    {
      "cell_type": "code",
      "source": [
        "text_pairs = []\n",
        "for line in range(0, len(input_texts)):\n",
        "    eng = input_texts[line]\n",
        "    spa = \"[start] \" + target_texts[line] + \" [end]\"\n",
        "    text_pairs.append((eng, spa))"
      ],
      "metadata": {
        "id": "94OtjA1530nk"
      },
      "execution_count": 5,
      "outputs": []
    },
    {
      "cell_type": "markdown",
      "metadata": {
        "id": "WIprVyp-w2mH"
      },
      "source": [
        "## Parsing the data\n",
        "\n",
        "Each line contains an English sentence and its corresponding Spanish sentence.\n",
        "The English sentence is the *source sequence* and Spanish one is the *target sequence*.\n",
        "We prepend the token `\"[start]\"` and we append the token `\"[end]\"` to the Spanish sentence."
      ]
    },
    {
      "cell_type": "code",
      "execution_count": 21,
      "metadata": {
        "id": "Weat00qMw2mH"
      },
      "outputs": [],
      "source": [
        "with open(text_file) as f:\n",
        "    lines = f.read().split(\"\\n\")[:-1]\n",
        "text_pairs = []\n",
        "for line in lines:\n",
        "    eng, spa = line.split(\"\\t\")\n",
        "    spa = \"[start] \" + spa + \" [end]\"\n",
        "    text_pairs.append((eng, spa))"
      ]
    },
    {
      "cell_type": "markdown",
      "metadata": {
        "id": "BXQx1m5lw2mH"
      },
      "source": [
        "Here's what our sentence pairs look like:"
      ]
    },
    {
      "cell_type": "code",
      "execution_count": 6,
      "metadata": {
        "id": "bdW7EO1rw2mH",
        "outputId": "ac017236-050e-4f1a-d60e-7a8d0522f80c",
        "colab": {
          "base_uri": "https://localhost:8080/"
        }
      },
      "outputs": [
        {
          "output_type": "stream",
          "name": "stdout",
          "text": [
            "('bona yusuf abdulahi', '[start] ቦና ዮሱፍ አብዱላሂ [end]')\n",
            "('gebrelibanos tikue gebrehiwot', '[start] ገብረሊባኖስ ትኩእ ገብረሂወት [end]')\n",
            "('habtamu mershu gudissa', '[start] ሀብታሙ  መርሹ  ጉዲሣ [end]')\n",
            "('dirriba abdissa tufa', '[start] ድርባ አብድሳ ቱፋ [end]')\n",
            "('jibril mussa baker', '[start] ጅብርል ሙሳ በከር [end]')\n"
          ]
        }
      ],
      "source": [
        "for _ in range(5):\n",
        "    print(random.choice(text_pairs))"
      ]
    },
    {
      "cell_type": "markdown",
      "metadata": {
        "id": "_oRtzP1gw2mI"
      },
      "source": [
        "Now, let's split the sentence pairs into a training set, a validation set,\n",
        "and a test set."
      ]
    },
    {
      "cell_type": "code",
      "execution_count": 16,
      "metadata": {
        "id": "NJqfVzsbw2mI",
        "outputId": "1fb56832-a250-44a1-934f-819461cf1804",
        "colab": {
          "base_uri": "https://localhost:8080/"
        }
      },
      "outputs": [
        {
          "output_type": "stream",
          "name": "stdout",
          "text": [
            "23867 total pairs\n",
            "23797 training pairs\n",
            "35 validation pairs\n",
            "35 test pairs\n"
          ]
        }
      ],
      "source": [
        "random.shuffle(text_pairs)\n",
        "num_val_samples = int(0.0015 * len(text_pairs))\n",
        "num_train_samples = len(text_pairs) - 2 * num_val_samples\n",
        "train_pairs = text_pairs[:num_train_samples]\n",
        "val_pairs = text_pairs[num_train_samples : num_train_samples + num_val_samples]\n",
        "test_pairs = text_pairs[num_train_samples + num_val_samples :]\n",
        "\n",
        "print(f\"{len(text_pairs)} total pairs\")\n",
        "print(f\"{len(train_pairs)} training pairs\")\n",
        "print(f\"{len(val_pairs)} validation pairs\")\n",
        "print(f\"{len(test_pairs)} test pairs\")"
      ]
    },
    {
      "cell_type": "markdown",
      "metadata": {
        "id": "0KwfKfJww2mI"
      },
      "source": [
        "## Vectorizing the text data\n",
        "\n",
        "We'll use two instances of the `TextVectorization` layer to vectorize the text\n",
        "data (one for English and one for Spanish),\n",
        "that is to say, to turn the original strings into integer sequences\n",
        "where each integer represents the index of a word in a vocabulary.\n",
        "\n",
        "The English layer will use the default string standardization (strip punctuation characters)\n",
        "and splitting scheme (split on whitespace), while\n",
        "the Spanish layer will use a custom standardization, where we add the character\n",
        "`\"¿\"` to the set of punctuation characters to be stripped.\n",
        "\n",
        "Note: in a production-grade machine translation model, I would not recommend\n",
        "stripping the punctuation characters in either language. Instead, I would recommend turning\n",
        "each punctuation character into its own token,\n",
        "which you could achieve by providing a custom `split` function to the `TextVectorization` layer."
      ]
    },
    {
      "cell_type": "code",
      "execution_count": 17,
      "metadata": {
        "id": "bQ6vCn8Rw2mI"
      },
      "outputs": [],
      "source": [
        "strip_chars = string.punctuation + \"¿\"\n",
        "strip_chars = strip_chars.replace(\"[\", \"\")\n",
        "strip_chars = strip_chars.replace(\"]\", \"\")\n",
        "\n",
        "vocab_size = 15000\n",
        "sequence_length = 20\n",
        "batch_size = 64\n",
        "\n",
        "\n",
        "def custom_standardization(input_string):\n",
        "    lowercase = tf.strings.lower(input_string)\n",
        "    return tf.strings.regex_replace(lowercase, \"[%s]\" % re.escape(strip_chars), \"\")\n",
        "\n",
        "\n",
        "eng_vectorization = TextVectorization(\n",
        "    max_tokens=vocab_size, output_mode=\"int\", output_sequence_length=sequence_length,\n",
        ")\n",
        "spa_vectorization = TextVectorization(\n",
        "    max_tokens=vocab_size,\n",
        "    output_mode=\"int\",\n",
        "    output_sequence_length=sequence_length + 1,\n",
        "    standardize=custom_standardization,\n",
        ")\n",
        "train_eng_texts = [pair[0] for pair in train_pairs]\n",
        "train_spa_texts = [pair[1] for pair in train_pairs]\n",
        "eng_vectorization.adapt(train_eng_texts)\n",
        "spa_vectorization.adapt(train_spa_texts)"
      ]
    },
    {
      "cell_type": "markdown",
      "metadata": {
        "id": "R-HmraDjw2mI"
      },
      "source": [
        "Next, we'll format our datasets.\n",
        "\n",
        "At each training step, the model will seek to predict target words N+1 (and beyond)\n",
        "using the source sentence and the target words 0 to N.\n",
        "\n",
        "As such, the training dataset will yield a tuple `(inputs, targets)`, where:\n",
        "\n",
        "- `inputs` is a dictionary with the keys `encoder_inputs` and `decoder_inputs`.\n",
        "`encoder_inputs` is the vectorized source sentence and `encoder_inputs` is the target sentence \"so far\",\n",
        "that is to say, the words 0 to N used to predict word N+1 (and beyond) in the target sentence.\n",
        "- `target` is the target sentence offset by one step:\n",
        "it provides the next words in the target sentence -- what the model will try to predict."
      ]
    },
    {
      "cell_type": "code",
      "execution_count": 18,
      "metadata": {
        "id": "80A55aXxw2mI"
      },
      "outputs": [],
      "source": [
        "\n",
        "def format_dataset(eng, spa):\n",
        "    eng = eng_vectorization(eng)\n",
        "    spa = spa_vectorization(spa)\n",
        "    return ({\"encoder_inputs\": eng, \"decoder_inputs\": spa[:, :-1],}, spa[:, 1:])\n",
        "\n",
        "\n",
        "def make_dataset(pairs):\n",
        "    eng_texts, spa_texts = zip(*pairs)\n",
        "    eng_texts = list(eng_texts)\n",
        "    spa_texts = list(spa_texts)\n",
        "    dataset = tf.data.Dataset.from_tensor_slices((eng_texts, spa_texts))\n",
        "    dataset = dataset.batch(batch_size)\n",
        "    dataset = dataset.map(format_dataset)\n",
        "    return dataset.shuffle(2048).prefetch(16).cache()\n",
        "\n",
        "\n",
        "train_ds = make_dataset(train_pairs)\n",
        "val_ds = make_dataset(val_pairs)"
      ]
    },
    {
      "cell_type": "markdown",
      "metadata": {
        "id": "eL1fNGH3w2mJ"
      },
      "source": [
        "Let's take a quick look at the sequence shapes\n",
        "(we have batches of 64 pairs, and all sequences are 20 steps long):"
      ]
    },
    {
      "cell_type": "code",
      "execution_count": 19,
      "metadata": {
        "id": "PCnXAo_Cw2mJ",
        "outputId": "8d3b9f99-fc57-455b-99ca-ed5556b585dd",
        "colab": {
          "base_uri": "https://localhost:8080/"
        }
      },
      "outputs": [
        {
          "output_type": "stream",
          "name": "stdout",
          "text": [
            "inputs[\"encoder_inputs\"].shape: (64, 20)\n",
            "inputs[\"decoder_inputs\"].shape: (64, 20)\n",
            "targets.shape: (64, 20)\n"
          ]
        }
      ],
      "source": [
        "for inputs, targets in train_ds.take(1):\n",
        "    print(f'inputs[\"encoder_inputs\"].shape: {inputs[\"encoder_inputs\"].shape}')\n",
        "    print(f'inputs[\"decoder_inputs\"].shape: {inputs[\"decoder_inputs\"].shape}')\n",
        "    print(f\"targets.shape: {targets.shape}\")"
      ]
    },
    {
      "cell_type": "markdown",
      "metadata": {
        "id": "U162x6h7w2mJ"
      },
      "source": [
        "## Building the model\n",
        "\n",
        "Our sequence-to-sequence Transformer consists of a `TransformerEncoder`\n",
        "and a `TransformerDecoder` chained together. To make the model aware of word order,\n",
        "we also use a `PositionalEmbedding` layer.\n",
        "\n",
        "The source sequence will be pass to the `TransformerEncoder`,\n",
        "which will produce a new representation of it.\n",
        "This new representation will then be passed\n",
        "to the `TransformerDecoder`, together with the target sequence so far (target words 0 to N).\n",
        "The `TransformerDecoder` will then seek to predict the next words in the target sequence (N+1 and beyond).\n",
        "\n",
        "A key detail that makes this possible is causal masking\n",
        "(see method `get_causal_attention_mask()` on the `TransformerDecoder`).\n",
        "The `TransformerDecoder` sees the entire sequences at once, and thus we must make\n",
        "sure that it only uses information from target tokens 0 to N when predicting token N+1\n",
        "(otherwise, it could use information from the future, which would\n",
        "result in a model that cannot be used at inference time)."
      ]
    },
    {
      "cell_type": "code",
      "execution_count": 20,
      "metadata": {
        "id": "Evxqx34Sw2mJ"
      },
      "outputs": [],
      "source": [
        "\n",
        "class TransformerEncoder(layers.Layer):\n",
        "    def __init__(self, embed_dim, dense_dim, num_heads, **kwargs):\n",
        "        super().__init__(**kwargs)\n",
        "        self.embed_dim = embed_dim\n",
        "        self.dense_dim = dense_dim\n",
        "        self.num_heads = num_heads\n",
        "        self.attention = layers.MultiHeadAttention(\n",
        "            num_heads=num_heads, key_dim=embed_dim\n",
        "        )\n",
        "        self.dense_proj = keras.Sequential(\n",
        "            [layers.Dense(dense_dim, activation=\"relu\"), layers.Dense(embed_dim),]\n",
        "        )\n",
        "        self.layernorm_1 = layers.LayerNormalization()\n",
        "        self.layernorm_2 = layers.LayerNormalization()\n",
        "        self.supports_masking = True\n",
        "\n",
        "    def call(self, inputs, mask=None):\n",
        "        if mask is not None:\n",
        "            padding_mask = tf.cast(mask[:, tf.newaxis, :], dtype=\"int32\")\n",
        "        attention_output = self.attention(\n",
        "            query=inputs, value=inputs, key=inputs, attention_mask=padding_mask\n",
        "        )\n",
        "        proj_input = self.layernorm_1(inputs + attention_output)\n",
        "        proj_output = self.dense_proj(proj_input)\n",
        "        return self.layernorm_2(proj_input + proj_output)\n",
        "    def get_config(self):\n",
        "        config = super().get_config()\n",
        "        config.update({\n",
        "            \"embed_dim\": self.embed_dim,\n",
        "            \"dense_dim\": self.dense_dim,\n",
        "            \"num_heads\": self.num_heads,\n",
        "        })\n",
        "        return config\n",
        "\n",
        "\n",
        "class PositionalEmbedding(layers.Layer):\n",
        "    def __init__(self, sequence_length, vocab_size, embed_dim, **kwargs):\n",
        "        super().__init__(**kwargs)\n",
        "        self.token_embeddings = layers.Embedding(\n",
        "            input_dim=vocab_size, output_dim=embed_dim\n",
        "        )\n",
        "        self.position_embeddings = layers.Embedding(\n",
        "            input_dim=sequence_length, output_dim=embed_dim\n",
        "        )\n",
        "        self.sequence_length = sequence_length\n",
        "        self.vocab_size = vocab_size\n",
        "        self.embed_dim = embed_dim\n",
        "\n",
        "    def call(self, inputs):\n",
        "        length = tf.shape(inputs)[-1]\n",
        "        positions = tf.range(start=0, limit=length, delta=1)\n",
        "        embedded_tokens = self.token_embeddings(inputs)\n",
        "        embedded_positions = self.position_embeddings(positions)\n",
        "        return embedded_tokens + embedded_positions\n",
        "\n",
        "    def compute_mask(self, inputs, mask=None):\n",
        "        return tf.math.not_equal(inputs, 0)\n",
        "    def get_config(self):\n",
        "        config = super().get_config()\n",
        "        config.update({\n",
        "            \"sequence_length\": self.sequence_length,\n",
        "            \"vocab_size\": self.vocab_size,\n",
        "            \"embed_dim\": self.embed_dim,\n",
        "        })\n",
        "        return config\n",
        "\n",
        "\n",
        "class TransformerDecoder(layers.Layer):\n",
        "    def __init__(self, embed_dim, latent_dim, num_heads, **kwargs):\n",
        "        super().__init__(**kwargs)\n",
        "        self.embed_dim = embed_dim\n",
        "        self.latent_dim = latent_dim\n",
        "        self.num_heads = num_heads\n",
        "        self.attention_1 = layers.MultiHeadAttention(\n",
        "            num_heads=num_heads, key_dim=embed_dim\n",
        "        )\n",
        "        self.attention_2 = layers.MultiHeadAttention(\n",
        "            num_heads=num_heads, key_dim=embed_dim\n",
        "        )\n",
        "        self.dense_proj = keras.Sequential(\n",
        "            [layers.Dense(latent_dim, activation=\"relu\"), layers.Dense(embed_dim),]\n",
        "        )\n",
        "        self.layernorm_1 = layers.LayerNormalization()\n",
        "        self.layernorm_2 = layers.LayerNormalization()\n",
        "        self.layernorm_3 = layers.LayerNormalization()\n",
        "        self.supports_masking = True\n",
        "\n",
        "    def call(self, inputs, encoder_outputs, mask=None):\n",
        "        causal_mask = self.get_causal_attention_mask(inputs)\n",
        "        if mask is not None:\n",
        "            padding_mask = tf.cast(mask[:, tf.newaxis, :], dtype=\"int32\")\n",
        "            padding_mask = tf.minimum(padding_mask, causal_mask)\n",
        "\n",
        "        attention_output_1 = self.attention_1(\n",
        "            query=inputs, value=inputs, key=inputs, attention_mask=causal_mask\n",
        "        )\n",
        "        out_1 = self.layernorm_1(inputs + attention_output_1)\n",
        "\n",
        "        attention_output_2 = self.attention_2(\n",
        "            query=out_1,\n",
        "            value=encoder_outputs,\n",
        "            key=encoder_outputs,\n",
        "            attention_mask=padding_mask,\n",
        "        )\n",
        "        out_2 = self.layernorm_2(out_1 + attention_output_2)\n",
        "\n",
        "        proj_output = self.dense_proj(out_2)\n",
        "        return self.layernorm_3(out_2 + proj_output)\n",
        "\n",
        "    def get_causal_attention_mask(self, inputs):\n",
        "        input_shape = tf.shape(inputs)\n",
        "        batch_size, sequence_length = input_shape[0], input_shape[1]\n",
        "        i = tf.range(sequence_length)[:, tf.newaxis]\n",
        "        j = tf.range(sequence_length)\n",
        "        mask = tf.cast(i >= j, dtype=\"int32\")\n",
        "        mask = tf.reshape(mask, (1, input_shape[1], input_shape[1]))\n",
        "        mult = tf.concat(\n",
        "            [tf.expand_dims(batch_size, -1), tf.constant([1, 1], dtype=tf.int32)],\n",
        "            axis=0,\n",
        "        )\n",
        "        return tf.tile(mask, mult)\n",
        "    def get_config(self):\n",
        "        config = super().get_config()\n",
        "        config.update({\n",
        "            \"embed_dim\": self.embed_dim,\n",
        "            \"latent_dim\": self.latent_dim,\n",
        "            \"num_heads\": self.num_heads,\n",
        "        })\n",
        "        return config\n"
      ]
    },
    {
      "cell_type": "markdown",
      "metadata": {
        "id": "FJk7vfGmw2mJ"
      },
      "source": [
        "Next, we assemble the end-to-end model."
      ]
    },
    {
      "cell_type": "code",
      "execution_count": 21,
      "metadata": {
        "id": "Qvdu4fTew2mJ"
      },
      "outputs": [],
      "source": [
        "embed_dim = 256\n",
        "latent_dim = 64\n",
        "num_heads = 8\n",
        "\n",
        "encoder_inputs = keras.Input(shape=(None,), dtype=\"int64\", name=\"encoder_inputs\")\n",
        "x = PositionalEmbedding(sequence_length, vocab_size, embed_dim)(encoder_inputs)\n",
        "encoder_outputs = TransformerEncoder(embed_dim, latent_dim, num_heads)(x)\n",
        "encoder = keras.Model(encoder_inputs, encoder_outputs)\n",
        "\n",
        "decoder_inputs = keras.Input(shape=(None,), dtype=\"int64\", name=\"decoder_inputs\")\n",
        "encoded_seq_inputs = keras.Input(shape=(None, embed_dim), name=\"decoder_state_inputs\")\n",
        "x = PositionalEmbedding(sequence_length, vocab_size, embed_dim)(decoder_inputs)\n",
        "x = TransformerDecoder(embed_dim, latent_dim, num_heads)(x, encoded_seq_inputs)\n",
        "x = layers.Dropout(0.5)(x)\n",
        "decoder_outputs = layers.Dense(vocab_size, activation=\"softmax\")(x)\n",
        "decoder = keras.Model([decoder_inputs, encoded_seq_inputs], decoder_outputs)\n",
        "\n",
        "decoder_outputs = decoder([decoder_inputs, encoder_outputs])\n",
        "transformer = keras.Model(\n",
        "    [encoder_inputs, decoder_inputs], decoder_outputs, name=\"transformer\"\n",
        ")"
      ]
    },
    {
      "cell_type": "markdown",
      "metadata": {
        "id": "FnzMEPPOw2mJ"
      },
      "source": [
        "## Training our model\n",
        "\n",
        "We'll use accuracy as a quick way to monitor training progress on the validation data.\n",
        "Note that machine translation typically uses BLEU scores as well as other metrics, rather than accuracy.\n",
        "\n",
        "Here we only train for 1 epoch, but to get the model to actually converge\n",
        "you should train for at least 30 epochs."
      ]
    },
    {
      "cell_type": "code",
      "execution_count": 22,
      "metadata": {
        "id": "8wNh54Gaw2mK",
        "outputId": "7a29607a-a906-47ad-d686-dbc3fab9b266",
        "colab": {
          "base_uri": "https://localhost:8080/"
        }
      },
      "outputs": [
        {
          "output_type": "stream",
          "name": "stdout",
          "text": [
            "Epoch 1/30\n",
            "372/372 [==============================] - 34s 72ms/step - loss: 4.1376 - accuracy: 0.5495 - val_loss: 2.1150 - val_accuracy: 0.7543\n",
            "Epoch 2/30\n",
            "372/372 [==============================] - 21s 56ms/step - loss: 2.5495 - accuracy: 0.7013 - val_loss: 1.5292 - val_accuracy: 0.7829\n",
            "Epoch 3/30\n",
            "372/372 [==============================] - 21s 56ms/step - loss: 2.0653 - accuracy: 0.7429 - val_loss: 1.2021 - val_accuracy: 0.8286\n",
            "Epoch 4/30\n",
            "372/372 [==============================] - 21s 55ms/step - loss: 1.7896 - accuracy: 0.7665 - val_loss: 1.0597 - val_accuracy: 0.8514\n",
            "Epoch 5/30\n",
            "372/372 [==============================] - 21s 57ms/step - loss: 1.6103 - accuracy: 0.7822 - val_loss: 1.1862 - val_accuracy: 0.8457\n",
            "Epoch 6/30\n",
            "372/372 [==============================] - 21s 57ms/step - loss: 1.4903 - accuracy: 0.7939 - val_loss: 1.1180 - val_accuracy: 0.8400\n",
            "Epoch 7/30\n",
            "372/372 [==============================] - 21s 56ms/step - loss: 1.4100 - accuracy: 0.8025 - val_loss: 1.1545 - val_accuracy: 0.8343\n",
            "Epoch 8/30\n",
            "372/372 [==============================] - 21s 56ms/step - loss: 1.3594 - accuracy: 0.8061 - val_loss: 1.0642 - val_accuracy: 0.8343\n",
            "Epoch 9/30\n",
            "372/372 [==============================] - 21s 57ms/step - loss: 1.3297 - accuracy: 0.8089 - val_loss: 1.0908 - val_accuracy: 0.8514\n",
            "Epoch 10/30\n",
            "372/372 [==============================] - 21s 56ms/step - loss: 1.3061 - accuracy: 0.8125 - val_loss: 1.1879 - val_accuracy: 0.8400\n",
            "Epoch 11/30\n",
            "372/372 [==============================] - 21s 57ms/step - loss: 1.2973 - accuracy: 0.8147 - val_loss: 1.2004 - val_accuracy: 0.8343\n",
            "Epoch 12/30\n",
            "372/372 [==============================] - 21s 57ms/step - loss: 1.3020 - accuracy: 0.8152 - val_loss: 1.1932 - val_accuracy: 0.8400\n",
            "Epoch 13/30\n",
            "372/372 [==============================] - 21s 56ms/step - loss: 1.3152 - accuracy: 0.8155 - val_loss: 1.2389 - val_accuracy: 0.8286\n",
            "Epoch 14/30\n",
            "372/372 [==============================] - 21s 56ms/step - loss: 1.3365 - accuracy: 0.8162 - val_loss: 1.2106 - val_accuracy: 0.8457\n",
            "Epoch 15/30\n",
            "372/372 [==============================] - 21s 56ms/step - loss: 1.3727 - accuracy: 0.8141 - val_loss: 1.3002 - val_accuracy: 0.8400\n",
            "Epoch 16/30\n",
            "372/372 [==============================] - 21s 56ms/step - loss: 1.4107 - accuracy: 0.8121 - val_loss: 1.2516 - val_accuracy: 0.8514\n",
            "Epoch 17/30\n",
            "372/372 [==============================] - 21s 55ms/step - loss: 1.4497 - accuracy: 0.8097 - val_loss: 1.2442 - val_accuracy: 0.8457\n",
            "Epoch 18/30\n",
            "372/372 [==============================] - 21s 57ms/step - loss: 1.4834 - accuracy: 0.8074 - val_loss: 1.1059 - val_accuracy: 0.8743\n",
            "Epoch 19/30\n",
            "372/372 [==============================] - 21s 57ms/step - loss: 1.5124 - accuracy: 0.8058 - val_loss: 1.2998 - val_accuracy: 0.8343\n",
            "Epoch 20/30\n",
            "372/372 [==============================] - 21s 55ms/step - loss: 1.5377 - accuracy: 0.8051 - val_loss: 1.3065 - val_accuracy: 0.8286\n",
            "Epoch 21/30\n",
            "372/372 [==============================] - 21s 55ms/step - loss: 1.5636 - accuracy: 0.8044 - val_loss: 1.5466 - val_accuracy: 0.8286\n",
            "Epoch 22/30\n",
            "372/372 [==============================] - 21s 56ms/step - loss: 1.5825 - accuracy: 0.8034 - val_loss: 1.3652 - val_accuracy: 0.8571\n",
            "Epoch 23/30\n",
            "372/372 [==============================] - 21s 56ms/step - loss: 1.5995 - accuracy: 0.8033 - val_loss: 1.3716 - val_accuracy: 0.8400\n",
            "Epoch 24/30\n",
            "372/372 [==============================] - 21s 56ms/step - loss: 1.6165 - accuracy: 0.8022 - val_loss: 1.3940 - val_accuracy: 0.8171\n",
            "Epoch 25/30\n",
            "372/372 [==============================] - 21s 57ms/step - loss: 1.6309 - accuracy: 0.8028 - val_loss: 1.3767 - val_accuracy: 0.8457\n",
            "Epoch 26/30\n",
            "372/372 [==============================] - 21s 56ms/step - loss: 1.6452 - accuracy: 0.8024 - val_loss: 1.2240 - val_accuracy: 0.8514\n",
            "Epoch 27/30\n",
            "372/372 [==============================] - 21s 56ms/step - loss: 1.6556 - accuracy: 0.8021 - val_loss: 1.5788 - val_accuracy: 0.8171\n",
            "Epoch 28/30\n",
            "372/372 [==============================] - 21s 56ms/step - loss: 1.6702 - accuracy: 0.8019 - val_loss: 1.4891 - val_accuracy: 0.8114\n",
            "Epoch 29/30\n",
            "372/372 [==============================] - 21s 56ms/step - loss: 1.6743 - accuracy: 0.8023 - val_loss: 1.5808 - val_accuracy: 0.8000\n",
            "Epoch 30/30\n",
            "372/372 [==============================] - 21s 57ms/step - loss: 1.6871 - accuracy: 0.8021 - val_loss: 1.4181 - val_accuracy: 0.8286\n"
          ]
        },
        {
          "output_type": "execute_result",
          "data": {
            "text/plain": [
              "<keras.callbacks.History at 0x7f9f741df100>"
            ]
          },
          "metadata": {},
          "execution_count": 22
        }
      ],
      "source": [
        "epochs = 30  # This should be at least 30 for convergence\n",
        "\n",
        "#transformer.summary()\n",
        "transformer.compile(\n",
        "    \"rmsprop\", loss=\"sparse_categorical_crossentropy\", metrics=[\"accuracy\"]\n",
        ")\n",
        "transformer.fit(train_ds, epochs=epochs, validation_data=val_ds)"
      ]
    },
    {
      "cell_type": "markdown",
      "metadata": {
        "id": "-F6bv6Jew2mK"
      },
      "source": [
        "## Decoding test sentences\n",
        "\n",
        "Finally, let's demonstrate how to translate brand new English sentences.\n",
        "We simply feed into the model the vectorized English sentence\n",
        "as well as the target token `\"[start]\"`, then we repeatedly generated the next token, until\n",
        "we hit the token `\"[end]\"`."
      ]
    },
    {
      "cell_type": "code",
      "execution_count": 14,
      "metadata": {
        "id": "lq1zWOjHw2mK",
        "outputId": "2d100891-4684-4e31-b73b-321cee1a1578",
        "colab": {
          "base_uri": "https://localhost:8080/"
        }
      },
      "outputs": [
        {
          "output_type": "stream",
          "name": "stdout",
          "text": [
            "_\n",
            "haymanot negese kassa\n",
            "[start] ሐይማኖት ነገሠ ካሣ [end]\n",
            "_\n",
            "feven tesfaye chernet\n",
            "[start] ፌቨን ተስፋዬ ቸርነት [end]\n",
            "_\n",
            "mahalet nesibu belay\n",
            "[start] ማህሌት ነሲቡ በላይ [end]\n",
            "_\n",
            "esubalew sintayehu tadesse\n",
            "[start] እሱባለው ስንታየሁ ታደሰ [end]\n",
            "_\n",
            "hiwot hailemichael birhanu\n",
            "[start] ህይወት ሀይለሚካኤል ብርሃኑ [end]\n",
            "_\n",
            "ayana berkessa tola\n",
            "[start] አያና ተስፉ ቶላ [end]\n",
            "_\n",
            "abera woldeyohannis halchaye\n",
            "[start] አበራ ወልደዩሐንስ ሀልቻዬ [end]\n",
            "_\n",
            "garuma gebre gose\n",
            "[start] መለሰ ገብሬ መኩሪያ [end]\n",
            "_\n",
            "habtam shiferie molla\n",
            "[start] ሀብታም ተስፉ ሞላ [end]\n",
            "_\n",
            "abraham ayalew demeke\n",
            "[start] አብርሀም አያሌው ደመቀ [end]\n",
            "_\n",
            "roman gebrehiwot araya\n",
            "[start] ሮማን ገብረህይወት አርአያ [end]\n",
            "_\n",
            "alsadat yimam seid\n",
            "[start] ሙራድ ይማም ሠይድ [end]\n",
            "_\n",
            "wudie mekonen lakew\n",
            "[start] ዉዴ መኮንን ላቀው [end]\n",
            "_\n",
            "daniel mesele mekuriaw\n",
            "[start] ዳንኤል መሰለ መኩሪያው [end]\n",
            "_\n",
            "chaklu  adisu demlew\n",
            "[start] ጫቅሉ አዲሱ መሐመድ [end]\n",
            "_\n",
            "misgana nademo lengiso\n",
            "[start] ምስጋና ከበዴ ይርጋ [end]\n",
            "_\n",
            "roman gebrehiwot araya\n",
            "[start] ሮማን ገብረህይወት አርአያ [end]\n",
            "_\n",
            "gizachew mengsitu belachew\n",
            "[start] ግዛቸው ትግስት በላቸው [end]\n",
            "_\n",
            "mesay bezuayhu kelbi\n",
            "[start] መሳይ ትግስት ታደሠ [end]\n",
            "_\n",
            "mohammed seid ali\n",
            "[start] ሙሀመድ ሰይድ አሊ [end]\n",
            "_\n",
            "shukuria guye turuke\n",
            "[start] ድንቃ ጉዬ እስከዳር [end]\n",
            "_\n",
            "kaytare sidamo kudado\n",
            "[start] ትግስት ጃማል ዮሐንስ [end]\n",
            "_\n",
            "kaleab amanuel duguma\n",
            "[start] ቃለአብ አማኑኤል ዱጉማ [end]\n",
            "_\n",
            "birtukan derbie endalew\n",
            "[start] ብርቱካን ደርቤ እንዳለዉ [end]\n",
            "_\n",
            "amanuel fufa daba\n",
            "[start] አማኑኤል ፉፋ ዳባ [end]\n",
            "_\n",
            "ida abebe gebreslassie\n",
            "[start] መልካሙ አበበ ገብረስላሴ [end]\n",
            "_\n",
            "akaku ayele kenea\n",
            "[start] ሙክታር አየለ ቀነዓ [end]\n",
            "_\n",
            "tesfaye fanos dantamo\n",
            "[start] ተስፋዬ የሱፍ ረሺድ [end]\n",
            "_\n",
            "wubalem yitayh endalamaw\n",
            "[start] ውብአለም ታደሠ ሀና [end]\n",
            "_\n",
            "aman tijo dekamo\n",
            "[start] አማን ትግስት መሐመድ [end]\n"
          ]
        }
      ],
      "source": [
        "spa_vocab = spa_vectorization.get_vocabulary()\n",
        "spa_index_lookup = dict(zip(range(len(spa_vocab)), spa_vocab))\n",
        "max_decoded_sentence_length = 20\n",
        "\n",
        "\n",
        "def decode_sequence(input_sentence):\n",
        "    tokenized_input_sentence = eng_vectorization([input_sentence])\n",
        "    decoded_sentence = \"[start]\"\n",
        "    for i in range(max_decoded_sentence_length):\n",
        "        tokenized_target_sentence = spa_vectorization([decoded_sentence])[:, :-1]\n",
        "        predictions = transformer([tokenized_input_sentence, tokenized_target_sentence])\n",
        "\n",
        "        sampled_token_index = np.argmax(predictions[0, i, :])\n",
        "        sampled_token = spa_index_lookup[sampled_token_index]\n",
        "        decoded_sentence += \" \" + sampled_token\n",
        "\n",
        "        if sampled_token == \"[end]\":\n",
        "            break\n",
        "    return decoded_sentence\n",
        "\n",
        "\n",
        "test_eng_texts = [pair[0] for pair in test_pairs]\n",
        "for _ in range(30):\n",
        "    input_sentence = random.choice(test_eng_texts)\n",
        "    translated = decode_sequence(input_sentence)\n",
        "    print('_')\n",
        "    print(input_sentence)\n",
        "    print(translated)"
      ]
    },
    {
      "cell_type": "markdown",
      "metadata": {
        "id": "stsQw2ctw2mK"
      },
      "source": [
        "After 30 epochs, we get results such as:\n",
        "\n",
        "> She handed him the money.\n",
        "> [start] ella le pasó el dinero [end]\n",
        "\n",
        "> Tom has never heard Mary sing.\n",
        "> [start] tom nunca ha oído cantar a mary [end]\n",
        "\n",
        "> Perhaps she will come tomorrow.\n",
        "> [start] tal vez ella vendrá mañana [end]\n",
        "\n",
        "> I love to write.\n",
        "> [start] me encanta escribir [end]\n",
        "\n",
        "> His French is improving little by little.\n",
        "> [start] su francés va a [UNK] sólo un poco [end]\n",
        "\n",
        "> My hotel told me to call you.\n",
        "> [start] mi hotel me dijo que te [UNK] [end]"
      ]
    }
  ],
  "metadata": {
    "accelerator": "GPU",
    "colab": {
      "name": "neural_machine_translation_with_transformer",
      "provenance": []
    },
    "kernelspec": {
      "display_name": "Python 3",
      "language": "python",
      "name": "python3"
    },
    "language_info": {
      "codemirror_mode": {
        "name": "ipython",
        "version": 3
      },
      "file_extension": ".py",
      "mimetype": "text/x-python",
      "name": "python",
      "nbconvert_exporter": "python",
      "pygments_lexer": "ipython3",
      "version": "3.7.0"
    }
  },
  "nbformat": 4,
  "nbformat_minor": 0
}